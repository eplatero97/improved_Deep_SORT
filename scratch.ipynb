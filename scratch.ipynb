{
 "cells": [
  {
   "cell_type": "code",
   "execution_count": 5,
   "metadata": {},
   "outputs": [
    {
     "name": "stdout",
     "output_type": "stream",
     "text": [
      "[tensor([ 0, 14])]\n",
      "[tensor([16,  2])]\n",
      "[tensor([3, 4])]\n",
      "[tensor([15,  5])]\n",
      "[tensor([25,  9])]\n",
      "[tensor([ 6, 29])]\n",
      "[tensor([11, 22])]\n",
      "[tensor([13, 18])]\n",
      "[tensor([ 8, 24])]\n",
      "[tensor([26, 28])]\n",
      "[tensor([21, 20])]\n",
      "[tensor([23, 17])]\n",
      "[tensor([ 1, 12])]\n",
      "[tensor([27, 19])]\n",
      "[tensor([10,  7])]\n"
     ]
    }
   ],
   "source": [
    "from torch.utils.data import ConcatDataset, TensorDataset, DataLoader\n",
    "import torch\n",
    "#from torch.utils.data.datasets import TensorDataset\n",
    "\n",
    "datasets = []\n",
    "for i in range(3):\n",
    "    datasets.append(TensorDataset(torch.arange(i*10, (i+1)*10)))\n",
    "\n",
    "dataset = ConcatDataset(datasets)\n",
    "loader = DataLoader(\n",
    "    dataset,\n",
    "    shuffle=True,\n",
    "    num_workers=0,\n",
    "    batch_size=2\n",
    ")\n",
    "for data in loader:\n",
    "    print(data)\n"
   ]
  },
  {
   "cell_type": "code",
   "execution_count": 6,
   "metadata": {},
   "outputs": [
    {
     "data": {
      "text/plain": [
       "[PosixPath('/home/cougarnet.uh.edu/eeplater/Documents/Datasets/MOT17/train/MOT17-13-FRCNN/crops_gt'),\n",
       " PosixPath('/home/cougarnet.uh.edu/eeplater/Documents/Datasets/MOT17/train/MOT17-10-FRCNN/crops_gt'),\n",
       " PosixPath('/home/cougarnet.uh.edu/eeplater/Documents/Datasets/MOT17/train/MOT17-02-FRCNN/crops_gt'),\n",
       " PosixPath('/home/cougarnet.uh.edu/eeplater/Documents/Datasets/MOT17/train/MOT17-11-FRCNN/crops_gt'),\n",
       " PosixPath('/home/cougarnet.uh.edu/eeplater/Documents/Datasets/MOT17/train/MOT17-04-FRCNN/crops_gt'),\n",
       " PosixPath('/home/cougarnet.uh.edu/eeplater/Documents/Datasets/MOT17/train/MOT17-09-FRCNN/crops_gt'),\n",
       " PosixPath('/home/cougarnet.uh.edu/eeplater/Documents/Datasets/MOT17/train/MOT17-05-FRCNN/crops_gt')]"
      ]
     },
     "execution_count": 6,
     "metadata": {},
     "output_type": "execute_result"
    }
   ],
   "source": [
    "from pathlib import Path\n",
    "mot_path = \"/home/cougarnet.uh.edu/eeplater/Documents/Datasets/MOT17/train\"\n",
    "list(Path(mot_path).rglob(\"crops_gt\"))"
   ]
  },
  {
   "cell_type": "code",
   "execution_count": 7,
   "metadata": {},
   "outputs": [
    {
     "name": "stdout",
     "output_type": "stream",
     "text": [
      "hi bon jour\n"
     ]
    }
   ],
   "source": [
    "def hello(arg1, arg2):\n",
    "    print(arg1, arg2)\n",
    "input = [\"hi\", \"bon jour\"]\n",
    "hello(*input)"
   ]
  },
  {
   "cell_type": "code",
   "execution_count": 1,
   "metadata": {},
   "outputs": [
    {
     "ename": "RuntimeError",
     "evalue": "zero-dimensional tensor (at position 0) cannot be concatenated",
     "output_type": "error",
     "traceback": [
      "\u001b[0;31m---------------------------------------------------------------------------\u001b[0m",
      "\u001b[0;31mRuntimeError\u001b[0m                              Traceback (most recent call last)",
      "\u001b[0;32m/tmp/ipykernel_143424/3282351767.py\u001b[0m in \u001b[0;36m<module>\u001b[0;34m\u001b[0m\n\u001b[1;32m     12\u001b[0m \u001b[0;34m\u001b[0m\u001b[0m\n\u001b[1;32m     13\u001b[0m \u001b[0mcriterion\u001b[0m \u001b[0;34m=\u001b[0m \u001b[0mCombinedTripletLosses\u001b[0m\u001b[0;34m(\u001b[0m\u001b[0mlosses\u001b[0m\u001b[0;34m,\u001b[0m \u001b[0mweights\u001b[0m\u001b[0;34m)\u001b[0m\u001b[0;34m\u001b[0m\u001b[0;34m\u001b[0m\u001b[0m\n\u001b[0;32m---> 14\u001b[0;31m \u001b[0mcriterion\u001b[0m\u001b[0;34m(\u001b[0m\u001b[0mx\u001b[0m\u001b[0;34m,\u001b[0m\u001b[0my\u001b[0m\u001b[0;34m,\u001b[0m\u001b[0mz\u001b[0m\u001b[0;34m)\u001b[0m\u001b[0;34m\u001b[0m\u001b[0;34m\u001b[0m\u001b[0m\n\u001b[0m",
      "\u001b[0;32m~/anaconda3/envs/pytorch_env/lib/python3.8/site-packages/torch/nn/modules/module.py\u001b[0m in \u001b[0;36m_call_impl\u001b[0;34m(self, *input, **kwargs)\u001b[0m\n\u001b[1;32m   1100\u001b[0m         if not (self._backward_hooks or self._forward_hooks or self._forward_pre_hooks or _global_backward_hooks\n\u001b[1;32m   1101\u001b[0m                 or _global_forward_hooks or _global_forward_pre_hooks):\n\u001b[0;32m-> 1102\u001b[0;31m             \u001b[0;32mreturn\u001b[0m \u001b[0mforward_call\u001b[0m\u001b[0;34m(\u001b[0m\u001b[0;34m*\u001b[0m\u001b[0minput\u001b[0m\u001b[0;34m,\u001b[0m \u001b[0;34m**\u001b[0m\u001b[0mkwargs\u001b[0m\u001b[0;34m)\u001b[0m\u001b[0;34m\u001b[0m\u001b[0;34m\u001b[0m\u001b[0m\n\u001b[0m\u001b[1;32m   1103\u001b[0m         \u001b[0;31m# Do not call functions when jit is used\u001b[0m\u001b[0;34m\u001b[0m\u001b[0;34m\u001b[0m\u001b[0;34m\u001b[0m\u001b[0m\n\u001b[1;32m   1104\u001b[0m         \u001b[0mfull_backward_hooks\u001b[0m\u001b[0;34m,\u001b[0m \u001b[0mnon_full_backward_hooks\u001b[0m \u001b[0;34m=\u001b[0m \u001b[0;34m[\u001b[0m\u001b[0;34m]\u001b[0m\u001b[0;34m,\u001b[0m \u001b[0;34m[\u001b[0m\u001b[0;34m]\u001b[0m\u001b[0;34m\u001b[0m\u001b[0;34m\u001b[0m\u001b[0m\n",
      "\u001b[0;32m~/Documents/GitHub/improved_Deep_SORT/improved_Deep_SORT/criterions.py\u001b[0m in \u001b[0;36mforward\u001b[0;34m(self, anchor, positive, negative)\u001b[0m\n\u001b[1;32m     94\u001b[0m     \u001b[0;32mdef\u001b[0m \u001b[0mforward\u001b[0m\u001b[0;34m(\u001b[0m\u001b[0mself\u001b[0m\u001b[0;34m,\u001b[0m \u001b[0manchor\u001b[0m\u001b[0;34m,\u001b[0m \u001b[0mpositive\u001b[0m\u001b[0;34m,\u001b[0m \u001b[0mnegative\u001b[0m\u001b[0;34m)\u001b[0m \u001b[0;34m->\u001b[0m \u001b[0mtorch\u001b[0m\u001b[0;34m.\u001b[0m\u001b[0mfloat\u001b[0m\u001b[0;34m:\u001b[0m\u001b[0;34m\u001b[0m\u001b[0;34m\u001b[0m\u001b[0m\n\u001b[1;32m     95\u001b[0m         \u001b[0;31m# anchor.shape == positive.shape == negative.shape == [batch_size, feat_embedding]\u001b[0m\u001b[0;34m\u001b[0m\u001b[0;34m\u001b[0m\u001b[0;34m\u001b[0m\u001b[0m\n\u001b[0;32m---> 96\u001b[0;31m         \u001b[0mloss_outs\u001b[0m \u001b[0;34m=\u001b[0m \u001b[0mtorch\u001b[0m\u001b[0;34m.\u001b[0m\u001b[0mconcat\u001b[0m\u001b[0;34m(\u001b[0m\u001b[0;34m[\u001b[0m\u001b[0mloss\u001b[0m\u001b[0;34m(\u001b[0m\u001b[0manchor\u001b[0m\u001b[0;34m,\u001b[0m\u001b[0mpositive\u001b[0m\u001b[0;34m,\u001b[0m\u001b[0mnegative\u001b[0m\u001b[0;34m)\u001b[0m \u001b[0;32mfor\u001b[0m \u001b[0mloss\u001b[0m \u001b[0;32min\u001b[0m \u001b[0mself\u001b[0m\u001b[0;34m.\u001b[0m\u001b[0mlosses\u001b[0m\u001b[0;34m]\u001b[0m\u001b[0;34m)\u001b[0m \u001b[0;31m# shape: [n_weights]\u001b[0m\u001b[0;34m\u001b[0m\u001b[0;34m\u001b[0m\u001b[0m\n\u001b[0m\u001b[1;32m     97\u001b[0m         \u001b[0mout\u001b[0m \u001b[0;34m=\u001b[0m \u001b[0mtorch\u001b[0m\u001b[0;34m.\u001b[0m\u001b[0mdot\u001b[0m\u001b[0;34m(\u001b[0m\u001b[0mloss_outs\u001b[0m\u001b[0;34m,\u001b[0m \u001b[0mself\u001b[0m\u001b[0;34m.\u001b[0m\u001b[0mweights\u001b[0m\u001b[0;34m)\u001b[0m\u001b[0;34m\u001b[0m\u001b[0;34m\u001b[0m\u001b[0m\n\u001b[1;32m     98\u001b[0m         \u001b[0;32mreturn\u001b[0m \u001b[0mout\u001b[0m\u001b[0;34m\u001b[0m\u001b[0;34m\u001b[0m\u001b[0m\n",
      "\u001b[0;31mRuntimeError\u001b[0m: zero-dimensional tensor (at position 0) cannot be concatenated"
     ]
    }
   ],
   "source": [
    "from criterions import *\n",
    "from torch import nn\n",
    "\n",
    "x = torch.FloatTensor(1, 256)\n",
    "y = torch.FloatTensor(1, 256)\n",
    "z = torch.FloatTensor(1, 256)\n",
    "\n",
    "x,y,z = x.cuda(),y.cuda(),z.cuda()\n",
    "\n",
    "losses = [TripletLoss(), nn.TripletMarginLoss()]\n",
    "weights = [1.0, 0.0]\n",
    "\n",
    "criterion = CombinedTripletLosses(losses, weights)\n",
    "criterion(x,y,z)"
   ]
  },
  {
   "cell_type": "code",
   "execution_count": 8,
   "metadata": {},
   "outputs": [],
   "source": [
    "x = torch.FloatTensor(1)\n",
    "y = torch.FloatTensor(1)\n",
    "z = torch.FloatTensor(1)\n",
    "x.requires_grad = True\n",
    "y.requires_grad = True\n",
    "z.requires_grad = True\n",
    "x,y,z = x.cuda(),y.cuda(),z.cuda()\n",
    "out = torch.FloatTensor([x,y,z])\n",
    "out.grad_fn"
   ]
  },
  {
   "cell_type": "code",
   "execution_count": 11,
   "metadata": {},
   "outputs": [
    {
     "data": {
      "text/plain": [
       "(torch.Size([3]), <CatBackward0 at 0x7f3d90811c40>, torch.Size([1]))"
      ]
     },
     "execution_count": 11,
     "metadata": {},
     "output_type": "execute_result"
    }
   ],
   "source": [
    "x = torch.FloatTensor(1)\n",
    "y = torch.FloatTensor(1)\n",
    "z = torch.FloatTensor(1)\n",
    "x.requires_grad = True\n",
    "y.requires_grad = True\n",
    "z.requires_grad = True\n",
    "x,y,z = x.cuda(),y.cuda(),z.cuda()\n",
    "out = torch.cat([x,y,z])\n",
    "out.shape, out.grad_fn, x.shape"
   ]
  },
  {
   "cell_type": "code",
   "execution_count": 16,
   "metadata": {},
   "outputs": [
    {
     "data": {
      "text/plain": [
       "(torch.int64, torch.Size([]))"
      ]
     },
     "execution_count": 16,
     "metadata": {},
     "output_type": "execute_result"
    }
   ],
   "source": [
    "x = torch.tensor(3)\n",
    "x.dtype, x.shape"
   ]
  },
  {
   "cell_type": "code",
   "execution_count": 25,
   "metadata": {},
   "outputs": [
    {
     "data": {
      "text/plain": [
       "(torch.Size([1, 3]), torch.int64)"
      ]
     },
     "execution_count": 25,
     "metadata": {},
     "output_type": "execute_result"
    }
   ],
   "source": [
    "x = torch.tensor([[1,2,3]]) # shape: torch.Size([1,3])\n",
    "x.shape, x.dtype"
   ]
  },
  {
   "cell_type": "code",
   "execution_count": 24,
   "metadata": {},
   "outputs": [
    {
     "data": {
      "text/plain": [
       "(tensor([1, 2, 3]), torch.Size([3]))"
      ]
     },
     "execution_count": 24,
     "metadata": {},
     "output_type": "execute_result"
    }
   ],
   "source": [
    "x: torch.FloatTensor([[1,2,3],[5,5,5]])\n",
    "x,x.shape"
   ]
  }
 ],
 "metadata": {
  "interpreter": {
   "hash": "40fdc88e2a32def9c2d6259bee06fd52e38a0c8aa13e9d712f698015bd21f734"
  },
  "kernelspec": {
   "display_name": "Python 3.6.15 64-bit ('deep_sort': conda)",
   "language": "python",
   "name": "python3"
  },
  "language_info": {
   "codemirror_mode": {
    "name": "ipython",
    "version": 3
   },
   "file_extension": ".py",
   "mimetype": "text/x-python",
   "name": "python",
   "nbconvert_exporter": "python",
   "pygments_lexer": "ipython3",
   "version": "3.8.12"
  },
  "orig_nbformat": 4
 },
 "nbformat": 4,
 "nbformat_minor": 2
}
