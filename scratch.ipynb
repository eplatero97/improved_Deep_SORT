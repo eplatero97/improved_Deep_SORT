{
 "cells": [
  {
   "cell_type": "code",
   "execution_count": 5,
   "metadata": {},
   "outputs": [
    {
     "name": "stdout",
     "output_type": "stream",
     "text": [
      "[tensor([ 0, 14])]\n",
      "[tensor([16,  2])]\n",
      "[tensor([3, 4])]\n",
      "[tensor([15,  5])]\n",
      "[tensor([25,  9])]\n",
      "[tensor([ 6, 29])]\n",
      "[tensor([11, 22])]\n",
      "[tensor([13, 18])]\n",
      "[tensor([ 8, 24])]\n",
      "[tensor([26, 28])]\n",
      "[tensor([21, 20])]\n",
      "[tensor([23, 17])]\n",
      "[tensor([ 1, 12])]\n",
      "[tensor([27, 19])]\n",
      "[tensor([10,  7])]\n"
     ]
    }
   ],
   "source": [
    "from torch.utils.data import ConcatDataset, TensorDataset, DataLoader\n",
    "import torch\n",
    "#from torch.utils.data.datasets import TensorDataset\n",
    "\n",
    "datasets = []\n",
    "for i in range(3):\n",
    "    datasets.append(TensorDataset(torch.arange(i*10, (i+1)*10)))\n",
    "\n",
    "dataset = ConcatDataset(datasets)\n",
    "loader = DataLoader(\n",
    "    dataset,\n",
    "    shuffle=True,\n",
    "    num_workers=0,\n",
    "    batch_size=2\n",
    ")\n",
    "for data in loader:\n",
    "    print(data)\n"
   ]
  },
  {
   "cell_type": "code",
   "execution_count": 6,
   "metadata": {},
   "outputs": [
    {
     "data": {
      "text/plain": [
       "[PosixPath('/home/cougarnet.uh.edu/eeplater/Documents/Datasets/MOT17/train/MOT17-13-FRCNN/crops_gt'),\n",
       " PosixPath('/home/cougarnet.uh.edu/eeplater/Documents/Datasets/MOT17/train/MOT17-10-FRCNN/crops_gt'),\n",
       " PosixPath('/home/cougarnet.uh.edu/eeplater/Documents/Datasets/MOT17/train/MOT17-02-FRCNN/crops_gt'),\n",
       " PosixPath('/home/cougarnet.uh.edu/eeplater/Documents/Datasets/MOT17/train/MOT17-11-FRCNN/crops_gt'),\n",
       " PosixPath('/home/cougarnet.uh.edu/eeplater/Documents/Datasets/MOT17/train/MOT17-04-FRCNN/crops_gt'),\n",
       " PosixPath('/home/cougarnet.uh.edu/eeplater/Documents/Datasets/MOT17/train/MOT17-09-FRCNN/crops_gt'),\n",
       " PosixPath('/home/cougarnet.uh.edu/eeplater/Documents/Datasets/MOT17/train/MOT17-05-FRCNN/crops_gt')]"
      ]
     },
     "execution_count": 6,
     "metadata": {},
     "output_type": "execute_result"
    }
   ],
   "source": [
    "from pathlib import Path\n",
    "mot_path = \"/home/cougarnet.uh.edu/eeplater/Documents/Datasets/MOT17/train\"\n",
    "list(Path(mot_path).rglob(\"crops_gt\"))"
   ]
  },
  {
   "cell_type": "code",
   "execution_count": 7,
   "metadata": {},
   "outputs": [
    {
     "name": "stdout",
     "output_type": "stream",
     "text": [
      "hi bon jour\n"
     ]
    }
   ],
   "source": [
    "def hello(arg1, arg2):\n",
    "    print(arg1, arg2)\n",
    "input = [\"hi\", \"bon jour\"]\n",
    "hello(*input)"
   ]
  }
 ],
 "metadata": {
  "interpreter": {
   "hash": "40fdc88e2a32def9c2d6259bee06fd52e38a0c8aa13e9d712f698015bd21f734"
  },
  "kernelspec": {
   "display_name": "Python 3.6.15 64-bit ('deep_sort': conda)",
   "language": "python",
   "name": "python3"
  },
  "language_info": {
   "codemirror_mode": {
    "name": "ipython",
    "version": 3
   },
   "file_extension": ".py",
   "mimetype": "text/x-python",
   "name": "python",
   "nbconvert_exporter": "python",
   "pygments_lexer": "ipython3",
   "version": "3.8.12"
  },
  "orig_nbformat": 4
 },
 "nbformat": 4,
 "nbformat_minor": 2
}
